{
 "cells": [
  {
   "cell_type": "code",
   "execution_count": 169,
   "metadata": {},
   "outputs": [],
   "source": [
    "import pandas as pd\n",
    "\n",
    "# This library lets us work with desition trees\n",
    "from sklearn.tree import DecisionTreeRegressor\n",
    "\n",
    "# Metrics help us get our errors for accuracy\n",
    "from sklearn.metrics import mean_absolute_error\n",
    "\n",
    "#Train_test_split is fundamental to divide our data, test it and try our models\n",
    "from sklearn.model_selection import train_test_split\n",
    "\n",
    "# Imports Random Forests\n",
    "from sklearn.ensemble import RandomForestRegressor\n",
    "\n",
    "\n",
    "import matplotlib.pyplot as plt\n",
    "\n",
    "\n",
    "from sklearn.tree import plot_tree\n",
    "\n",
    "import numpy as np\n",
    "\n",
    "\n",
    "df= pd.read_csv('data/car_price_prediction_.csv')\n",
    "df = df.drop('Car ID', axis = 1)"
   ]
  },
  {
   "cell_type": "code",
   "execution_count": 170,
   "metadata": {},
   "outputs": [],
   "source": [
    "\n",
    "\n",
    "from sklearn.preprocessing import MinMaxScaler\n",
    "\n",
    "# Select the numerical columns\n",
    "numerical_cols = ['Year', 'Engine Size', 'Mileage']\n",
    "\n",
    "# Initialize the Min-Max Scaler\n",
    "scaler = MinMaxScaler()\n",
    "\n",
    "# Apply the scaler to the numerical columns\n",
    "df[numerical_cols] = scaler.fit_transform(df[numerical_cols])\n",
    "\n",
    "\n"
   ]
  },
  {
   "cell_type": "code",
   "execution_count": 171,
   "metadata": {},
   "outputs": [],
   "source": [
    "X = df.drop(columns='Price', axis=1) \n",
    "X = pd.get_dummies(X, drop_first=True)\n",
    "\n",
    "Y = df.Price  "
   ]
  },
  {
   "cell_type": "code",
   "execution_count": 172,
   "metadata": {},
   "outputs": [],
   "source": [
    "X_train, X_test, Y_train, Y_test = train_test_split(X, Y, random_state=0)\n"
   ]
  },
  {
   "cell_type": "code",
   "execution_count": 173,
   "metadata": {},
   "outputs": [],
   "source": [
    "\n",
    "# Define the model\n",
    "model = DecisionTreeRegressor()\n",
    "\n",
    "# Fit the model using the training data\n",
    "model.fit(X_train, Y_train)\n",
    "\n",
    "# Get predicted prices on the testing data\n",
    "Y_pred = model.predict(X_test)"
   ]
  },
  {
   "cell_type": "code",
   "execution_count": 174,
   "metadata": {},
   "outputs": [
    {
     "name": "stdout",
     "output_type": "stream",
     "text": [
      "\n",
      "RMSE: 37246.202076282614\n",
      "R2: -0.7717253173010035\n",
      "\n",
      "Mean Absolute Error on test data: 29819.811824\n"
     ]
    }
   ],
   "source": [
    "from sklearn.metrics import r2_score, mean_squared_error\n",
    "\n",
    "print(f\"\"\"\n",
    "RMSE: {np.sqrt(mean_squared_error(Y_test, Y_pred))}\n",
    "R2: {r2_score(Y_test, Y_pred)}\n",
    "\"\"\")\n",
    "mae_test = mean_absolute_error(Y_test, Y_pred)\n",
    "print(\"Mean Absolute Error on test data:\", mae_test)"
   ]
  },
  {
   "cell_type": "code",
   "execution_count": null,
   "metadata": {},
   "outputs": [],
   "source": []
  },
  {
   "cell_type": "code",
   "execution_count": 175,
   "metadata": {},
   "outputs": [],
   "source": [
    "# I'm going to create a function that tests different max nodes\n",
    "# to see which number of nodes is best\n",
    "\n",
    "def get_mae(max_leaf_nodes, X_train, X_test, Y_train, Y_test):\n",
    "    # Define and fit the model with specified max_leaf_nodes\n",
    "    model = DecisionTreeRegressor(max_leaf_nodes=max_leaf_nodes, random_state=0)\n",
    "    model.fit(X_train, Y_train)\n",
    "\n",
    "    # Make predictions on the validation set\n",
    "    preds_val = model.predict(X_test)\n",
    "\n",
    "    # Calculate Mean Absolute Error\n",
    "    mae = mean_absolute_error(Y_test, preds_val)\n",
    "    \n",
    "    return mae\n"
   ]
  },
  {
   "cell_type": "code",
   "execution_count": 176,
   "metadata": {},
   "outputs": [
    {
     "name": "stdout",
     "output_type": "stream",
     "text": [
      "Max leaf nodes: 5 \t Mean Absolute Error: 24409.38\n",
      "Max leaf nodes: 50 \t Mean Absolute Error: 24781.90\n",
      "Max leaf nodes: 500 \t Mean Absolute Error: 28024.03\n",
      "Max leaf nodes: 5000 \t Mean Absolute Error: 29942.47\n",
      "Max leaf nodes: 50000 \t Mean Absolute Error: 29942.47\n",
      "Max leaf nodes: 500000 \t Mean Absolute Error: 29942.47\n",
      "Max leaf nodes: 5000000 \t Mean Absolute Error: 29942.47\n",
      "Max leaf nodes: 50000000 \t Mean Absolute Error: 29942.47\n",
      "Therefore the best node is 5 with 24409.38\n"
     ]
    }
   ],
   "source": [
    "Mae_compare = [5 * 10**number for number in range(8)]\n",
    "\n",
    "\n",
    "lowest_mae = float('inf')  # Initialize to a high value\n",
    "lowest_node = None  # Initialize lowest_node\n",
    "i = 0\n",
    "\n",
    "# We are going to work with a mini controlled forest\n",
    "# where we can compare different MAEs manually\n",
    "\n",
    "# Compare MAE with differing values of max_leaf_nodes\n",
    "for max_leaf_nodes in Mae_compare:\n",
    "    # Get the Mean Absolute Error for the current max_leaf_nodes value\n",
    "    my_mae = get_mae(max_leaf_nodes, X_train, X_test, Y_train, Y_test)\n",
    "\n",
    "    # Print the results in a formatted string\n",
    "    print(f\"Max leaf nodes: {max_leaf_nodes} \\t Mean Absolute Error: {my_mae:.2f}\")\n",
    "    if my_mae < lowest_mae or max_leaf_nodes == Mae_compare[0]:\n",
    "        lowest_mae = my_mae\n",
    "        lowest_node = Mae_compare[i]\n",
    "    i += 1\n",
    "\n",
    "print(f\"Therefore the best node is {lowest_node} with {lowest_mae:.2f}\")\n"
   ]
  },
  {
   "cell_type": "markdown",
   "metadata": {},
   "source": [
    "### Random Forest"
   ]
  },
  {
   "cell_type": "code",
   "execution_count": 177,
   "metadata": {},
   "outputs": [],
   "source": [
    "# To work with random forest, first we call the object we are gonna work on\n",
    "# This is alike the code above, tho its a more powerfull tool\n",
    "\n",
    "forest_model = RandomForestRegressor(random_state=1)\n",
    "\n",
    "# Then train it with our variables\n",
    "forest_model.fit(X_train, Y_train)\n",
    "\n",
    "# calculate its predictions\n",
    "forest_preds = forest_model.predict(X_test)\n",
    "\n",
    "# and compare how good was our model against unseen data\n",
    "\n",
    "forest_mae=mean_absolute_error(Y_test, forest_preds)"
   ]
  },
  {
   "cell_type": "code",
   "execution_count": 178,
   "metadata": {},
   "outputs": [
    {
     "name": "stdout",
     "output_type": "stream",
     "text": [
      "The Mean Absolute Error is 24574.47, which is 46.89% of the mean of Y.\n",
      "This means if our model makes a prediction it'll be +-46.89% trustworthy\n"
     ]
    }
   ],
   "source": [
    "# Calculate the mean of Y (target variable)\n",
    "mean_y = Y_test.mean()\n",
    "\n",
    "# Calculate the percentage of MAE relative to the mean of Y\n",
    "mae_percentage = (forest_mae / mean_y) * 100\n",
    "\n",
    "print(f\"The Mean Absolute Error is {forest_mae:.2f}, which is {mae_percentage:.2f}% of the mean of Y.\")\n",
    "print(f\"This means if our model makes a prediction it'll be +-{mae_percentage:.2f}% trustworthy\")\n"
   ]
  },
  {
   "cell_type": "code",
   "execution_count": null,
   "metadata": {},
   "outputs": [],
   "source": []
  }
 ],
 "metadata": {
  "kernelspec": {
   "display_name": "Python 3",
   "language": "python",
   "name": "python3"
  },
  "language_info": {
   "codemirror_mode": {
    "name": "ipython",
    "version": 3
   },
   "file_extension": ".py",
   "mimetype": "text/x-python",
   "name": "python",
   "nbconvert_exporter": "python",
   "pygments_lexer": "ipython3",
   "version": "3.12.0"
  }
 },
 "nbformat": 4,
 "nbformat_minor": 2
}
