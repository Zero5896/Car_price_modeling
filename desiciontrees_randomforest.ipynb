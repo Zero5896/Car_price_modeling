{
 "cells": [
  {
   "cell_type": "code",
   "execution_count": 1,
   "metadata": {},
   "outputs": [],
   "source": [
    "import pandas as pd\n",
    "\n",
    "# This library lets us work with desition trees\n",
    "from sklearn.tree import DecisionTreeRegressor\n",
    "\n",
    "# Metrics help us get our errors for accuracy\n",
    "from sklearn.metrics import mean_absolute_error\n",
    "\n",
    "#Train_test_split is fundamental to divide our data, test it and try our models\n",
    "from sklearn.model_selection import train_test_split\n",
    "\n",
    "# Imports Random Forests\n",
    "from sklearn.ensemble import RandomForestRegressor\n",
    "\n",
    "\n",
    "import matplotlib.pyplot as plt\n",
    "\n",
    "\n",
    "from sklearn.tree import plot_tree\n",
    "from scipy import stats\n",
    "\n",
    "import numpy as np\n",
    "\n",
    "\n",
    "df= pd.read_csv('data/car_price_prediction_.csv')\n",
    "df = df.drop('Car ID', axis = 1)"
   ]
  },
  {
   "cell_type": "code",
   "execution_count": 2,
   "metadata": {},
   "outputs": [
    {
     "data": {
      "text/html": [
       "<div>\n",
       "<style scoped>\n",
       "    .dataframe tbody tr th:only-of-type {\n",
       "        vertical-align: middle;\n",
       "    }\n",
       "\n",
       "    .dataframe tbody tr th {\n",
       "        vertical-align: top;\n",
       "    }\n",
       "\n",
       "    .dataframe thead th {\n",
       "        text-align: right;\n",
       "    }\n",
       "</style>\n",
       "<table border=\"1\" class=\"dataframe\">\n",
       "  <thead>\n",
       "    <tr style=\"text-align: right;\">\n",
       "      <th></th>\n",
       "      <th>Brand</th>\n",
       "      <th>Year</th>\n",
       "      <th>Engine Size</th>\n",
       "      <th>Fuel Type</th>\n",
       "      <th>Transmission</th>\n",
       "      <th>Mileage</th>\n",
       "      <th>Condition</th>\n",
       "      <th>Price</th>\n",
       "      <th>Model</th>\n",
       "    </tr>\n",
       "  </thead>\n",
       "  <tbody>\n",
       "    <tr>\n",
       "      <th>0</th>\n",
       "      <td>5</td>\n",
       "      <td>2016</td>\n",
       "      <td>2.3</td>\n",
       "      <td>3</td>\n",
       "      <td>1</td>\n",
       "      <td>114832</td>\n",
       "      <td>1</td>\n",
       "      <td>26613.92</td>\n",
       "      <td>19</td>\n",
       "    </tr>\n",
       "    <tr>\n",
       "      <th>1</th>\n",
       "      <td>1</td>\n",
       "      <td>2018</td>\n",
       "      <td>4.4</td>\n",
       "      <td>1</td>\n",
       "      <td>1</td>\n",
       "      <td>143190</td>\n",
       "      <td>2</td>\n",
       "      <td>14679.61</td>\n",
       "      <td>1</td>\n",
       "    </tr>\n",
       "    <tr>\n",
       "      <th>2</th>\n",
       "      <td>0</td>\n",
       "      <td>2013</td>\n",
       "      <td>4.5</td>\n",
       "      <td>1</td>\n",
       "      <td>1</td>\n",
       "      <td>181601</td>\n",
       "      <td>1</td>\n",
       "      <td>44402.61</td>\n",
       "      <td>3</td>\n",
       "    </tr>\n",
       "    <tr>\n",
       "      <th>3</th>\n",
       "      <td>5</td>\n",
       "      <td>2011</td>\n",
       "      <td>4.1</td>\n",
       "      <td>0</td>\n",
       "      <td>0</td>\n",
       "      <td>68682</td>\n",
       "      <td>1</td>\n",
       "      <td>86374.33</td>\n",
       "      <td>20</td>\n",
       "    </tr>\n",
       "    <tr>\n",
       "      <th>4</th>\n",
       "      <td>2</td>\n",
       "      <td>2009</td>\n",
       "      <td>2.6</td>\n",
       "      <td>0</td>\n",
       "      <td>1</td>\n",
       "      <td>223009</td>\n",
       "      <td>0</td>\n",
       "      <td>73577.10</td>\n",
       "      <td>21</td>\n",
       "    </tr>\n",
       "  </tbody>\n",
       "</table>\n",
       "</div>"
      ],
      "text/plain": [
       "   Brand  Year  Engine Size  Fuel Type  Transmission  Mileage  Condition  \\\n",
       "0      5  2016          2.3          3             1   114832          1   \n",
       "1      1  2018          4.4          1             1   143190          2   \n",
       "2      0  2013          4.5          1             1   181601          1   \n",
       "3      5  2011          4.1          0             0    68682          1   \n",
       "4      2  2009          2.6          0             1   223009          0   \n",
       "\n",
       "      Price  Model  \n",
       "0  26613.92     19  \n",
       "1  14679.61      1  \n",
       "2  44402.61      3  \n",
       "3  86374.33     20  \n",
       "4  73577.10     21  "
      ]
     },
     "execution_count": 2,
     "metadata": {},
     "output_type": "execute_result"
    }
   ],
   "source": [
    "from sklearn.preprocessing import LabelEncoder\n",
    "\n",
    "\n",
    "categorical_cols = ['Brand', 'Fuel Type', 'Transmission', 'Condition', 'Model']\n",
    "# Apply Label Encoding to each categorical column and store the encoders in a dictionary\n",
    "label_encoders = {col: LabelEncoder().fit(df[col]) for col in categorical_cols}\n",
    "\n",
    "# Transform the categorical columns in one line\n",
    "df[categorical_cols] = df[categorical_cols].apply(lambda col: label_encoders[col.name].transform(col))\n",
    "\n",
    "# Check the encoded dataframe\n",
    "df.head()"
   ]
  },
  {
   "cell_type": "code",
   "execution_count": 3,
   "metadata": {},
   "outputs": [],
   "source": [
    "# Define the threshold for outlier detection\n",
    "z_thresh = 3\n",
    "\n",
    "# Select the numerical columns\n",
    "numerical_cols = ['Year', 'Engine Size', 'Mileage']\n",
    "\n",
    "# Calculate the Z-scores for the selected columns\n",
    "z_scores = np.abs(stats.zscore(df[numerical_cols]))\n",
    "\n",
    "# Create a boolean mask to filter out outliers based on Z-score threshold\n",
    "outliers = (z_scores > z_thresh).any(axis=1)\n",
    "\n",
    "# Filter out the outliers\n",
    "df_cleaned = df[~outliers]\n",
    "\n",
    "# Print the remaining dataset"
   ]
  },
  {
   "cell_type": "code",
   "execution_count": 4,
   "metadata": {},
   "outputs": [],
   "source": [
    "\n",
    "\n",
    "from sklearn.preprocessing import MinMaxScaler\n",
    "\n",
    "# Select the numerical columns\n",
    "numerical_cols = ['Year', 'Engine Size', 'Mileage']\n",
    "\n",
    "# Initialize the Min-Max Scaler\n",
    "scaler = MinMaxScaler()\n",
    "\n",
    "# Apply the scaler to the numerical columns\n",
    "df[numerical_cols] = scaler.fit_transform(df[numerical_cols])\n",
    "\n"
   ]
  },
  {
   "cell_type": "code",
   "execution_count": 5,
   "metadata": {},
   "outputs": [],
   "source": [
    "X = df.drop(columns='Price', axis=1) \n",
    "#X = pd.get_dummies(X, drop_first=True)\n",
    "\n",
    "Y = df.Price  "
   ]
  },
  {
   "cell_type": "code",
   "execution_count": 6,
   "metadata": {},
   "outputs": [],
   "source": [
    "X_train, X_test, Y_train, Y_test = train_test_split(X, Y, random_state=0)\n"
   ]
  },
  {
   "cell_type": "code",
   "execution_count": 7,
   "metadata": {},
   "outputs": [],
   "source": [
    "\n",
    "# Define the model\n",
    "model = DecisionTreeRegressor()\n",
    "\n",
    "# Fit the model using the training data\n",
    "model.fit(X_train, Y_train)\n",
    "\n",
    "# Get predicted prices on the testing data\n",
    "Y_pred = model.predict(X_test)"
   ]
  },
  {
   "cell_type": "code",
   "execution_count": 8,
   "metadata": {},
   "outputs": [
    {
     "name": "stdout",
     "output_type": "stream",
     "text": [
      "\n",
      "RMSE: 38548.464250421406\n",
      "R2: -0.8977830444089931\n",
      "\n",
      "Mean Absolute Error on test data: 31697.270751999997\n"
     ]
    }
   ],
   "source": [
    "from sklearn.metrics import r2_score, mean_squared_error\n",
    "\n",
    "print(f\"\"\"\n",
    "RMSE: {np.sqrt(mean_squared_error(Y_test, Y_pred))}\n",
    "R2: {r2_score(Y_test, Y_pred)}\n",
    "\"\"\")\n",
    "mae_test = mean_absolute_error(Y_test, Y_pred)\n",
    "print(\"Mean Absolute Error on test data:\", mae_test)"
   ]
  },
  {
   "cell_type": "code",
   "execution_count": null,
   "metadata": {},
   "outputs": [],
   "source": []
  },
  {
   "cell_type": "code",
   "execution_count": 9,
   "metadata": {},
   "outputs": [],
   "source": [
    "# I'm going to create a function that tests different max nodes\n",
    "# to see which number of nodes is best\n",
    "\n",
    "def get_mae(max_leaf_nodes, X_train, X_test, Y_train, Y_test):\n",
    "    # Define and fit the model with specified max_leaf_nodes\n",
    "    model = DecisionTreeRegressor(max_leaf_nodes=max_leaf_nodes, random_state=0)\n",
    "    model.fit(X_train, Y_train)\n",
    "\n",
    "    # Make predictions on the validation set\n",
    "    preds_val = model.predict(X_test)\n",
    "\n",
    "    # Calculate Mean Absolute Error\n",
    "    mae = mean_absolute_error(Y_test, preds_val)\n",
    "    \n",
    "    return mae\n"
   ]
  },
  {
   "cell_type": "code",
   "execution_count": 10,
   "metadata": {},
   "outputs": [
    {
     "name": "stdout",
     "output_type": "stream",
     "text": [
      "Max leaf nodes: 5 \t Mean Absolute Error: 24359.89\n",
      "Max leaf nodes: 50 \t Mean Absolute Error: 25511.25\n",
      "Max leaf nodes: 500 \t Mean Absolute Error: 30162.25\n",
      "Max leaf nodes: 5000 \t Mean Absolute Error: 31835.47\n",
      "Max leaf nodes: 50000 \t Mean Absolute Error: 31835.47\n",
      "Max leaf nodes: 500000 \t Mean Absolute Error: 31835.47\n",
      "Max leaf nodes: 5000000 \t Mean Absolute Error: 31835.47\n",
      "Max leaf nodes: 50000000 \t Mean Absolute Error: 31835.47\n",
      "Therefore the best node is 5 with 24359.89\n"
     ]
    }
   ],
   "source": [
    "Mae_compare = [5 * 10**number for number in range(8)]\n",
    "\n",
    "\n",
    "lowest_mae = float('inf')  # Initialize to a high value\n",
    "lowest_node = None  # Initialize lowest_node\n",
    "i = 0\n",
    "\n",
    "# We are going to work with a mini controlled forest\n",
    "# where we can compare different MAEs manually\n",
    "\n",
    "# Compare MAE with differing values of max_leaf_nodes\n",
    "for max_leaf_nodes in Mae_compare:\n",
    "    # Get the Mean Absolute Error for the current max_leaf_nodes value\n",
    "    my_mae = get_mae(max_leaf_nodes, X_train, X_test, Y_train, Y_test)\n",
    "\n",
    "    # Print the results in a formatted string\n",
    "    print(f\"Max leaf nodes: {max_leaf_nodes} \\t Mean Absolute Error: {my_mae:.2f}\")\n",
    "    if my_mae < lowest_mae or max_leaf_nodes == Mae_compare[0]:\n",
    "        lowest_mae = my_mae\n",
    "        lowest_node = Mae_compare[i]\n",
    "    i += 1\n",
    "\n",
    "print(f\"Therefore the best node is {lowest_node} with {lowest_mae:.2f}\")\n"
   ]
  },
  {
   "cell_type": "markdown",
   "metadata": {},
   "source": [
    "### Random Forest"
   ]
  },
  {
   "cell_type": "code",
   "execution_count": 11,
   "metadata": {},
   "outputs": [],
   "source": [
    "# To work with random forest, first we call the object we are gonna work on\n",
    "# This is alike the code above, tho its a more powerfull tool\n",
    "\n",
    "forest_model = RandomForestRegressor(random_state=1)\n",
    "\n",
    "# Then train it with our variables\n",
    "forest_model.fit(X_train, Y_train)\n",
    "\n",
    "# calculate its predictions\n",
    "forest_preds = forest_model.predict(X_test)\n",
    "\n",
    "# and compare how good was our model against unseen data\n",
    "\n",
    "forest_mae=mean_absolute_error(Y_test, forest_preds)"
   ]
  },
  {
   "cell_type": "code",
   "execution_count": 12,
   "metadata": {},
   "outputs": [
    {
     "name": "stdout",
     "output_type": "stream",
     "text": [
      "The Mean Absolute Error is 24723.61, which is 47.17% of the mean of Y.\n",
      "This means if our model makes a prediction it'll be +-47.17% trustworthy\n"
     ]
    }
   ],
   "source": [
    "# Calculate the mean of Y (target variable)\n",
    "mean_y = Y_test.mean()\n",
    "\n",
    "# Calculate the percentage of MAE relative to the mean of Y\n",
    "mae_percentage = (forest_mae / mean_y) * 100\n",
    "\n",
    "print(f\"The Mean Absolute Error is {forest_mae:.2f}, which is {mae_percentage:.2f}% of the mean of Y.\")\n",
    "print(f\"This means if our model makes a prediction it'll be +-{mae_percentage:.2f}% trustworthy\")\n"
   ]
  },
  {
   "cell_type": "code",
   "execution_count": 13,
   "metadata": {},
   "outputs": [
    {
     "data": {
      "text/plain": [
       "(-90.24466007261994, 100.0)"
      ]
     },
     "execution_count": 13,
     "metadata": {},
     "output_type": "execute_result"
    }
   ],
   "source": [
    "dt =DecisionTreeRegressor()\n",
    "dt.fit(X_train,Y_train)\n",
    "dt.score(X_test,Y_test)*100, dt.score(X_train,Y_train)*100"
   ]
  },
  {
   "cell_type": "code",
   "execution_count": 14,
   "metadata": {},
   "outputs": [
    {
     "name": "stdout",
     "output_type": "stream",
     "text": [
      "\n",
      "RMSE: 38548.464250421406\n",
      "R2: -0.8977830444089931\n",
      "\n",
      "Mean Absolute Error on test data: 31697.270751999997\n"
     ]
    }
   ],
   "source": [
    "from sklearn.metrics import r2_score, mean_squared_error\n",
    "\n",
    "print(f\"\"\"\n",
    "RMSE: {np.sqrt(mean_squared_error(Y_test, Y_pred))}\n",
    "R2: {r2_score(Y_test, Y_pred)}\n",
    "\"\"\")\n",
    "mae_test = mean_absolute_error(Y_test, Y_pred)\n",
    "print(\"Mean Absolute Error on test data:\", mae_test)"
   ]
  }
 ],
 "metadata": {
  "kernelspec": {
   "display_name": "Python 3",
   "language": "python",
   "name": "python3"
  },
  "language_info": {
   "codemirror_mode": {
    "name": "ipython",
    "version": 3
   },
   "file_extension": ".py",
   "mimetype": "text/x-python",
   "name": "python",
   "nbconvert_exporter": "python",
   "pygments_lexer": "ipython3",
   "version": "3.12.0"
  }
 },
 "nbformat": 4,
 "nbformat_minor": 2
}
