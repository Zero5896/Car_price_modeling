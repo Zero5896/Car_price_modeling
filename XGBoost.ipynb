{
 "cells": [
  {
   "cell_type": "code",
   "execution_count": 34,
   "metadata": {},
   "outputs": [],
   "source": [
    "\n",
    "# Import necessary libraries\n",
    "import pandas as pd\n",
    "import numpy as np\n",
    "from sklearn.model_selection import train_test_split\n",
    "from sklearn.preprocessing import LabelEncoder, MinMaxScaler\n",
    "from sklearn.metrics import mean_absolute_error, r2_score, mean_squared_error\n",
    "import xgboost as xgb\n",
    "import matplotlib.pyplot as plt\n",
    "from scipy import stats\n"
   ]
  },
  {
   "cell_type": "code",
   "execution_count": 35,
   "metadata": {},
   "outputs": [],
   "source": [
    "df = pd.read_csv('data/car_price_prediction_.csv')\n",
    "df = df.drop('Car ID', axis=1)\n",
    "\n",
    "# Use One-Hot Encoding for categorical variables\n",
    "df = pd.get_dummies(df, columns=['Brand', 'Fuel Type', 'Transmission', 'Condition', 'Model'], drop_first=True)\n",
    "\n",
    "\n",
    "# Outlier detection using Z-scores\n",
    "z_thresh = 3\n",
    "numerical_cols = ['Year', 'Engine Size', 'Mileage']\n",
    "z_scores = np.abs(stats.zscore(df[numerical_cols]))\n",
    "outliers = (z_scores > z_thresh).any(axis=1)\n",
    "df_cleaned = df[~outliers]\n",
    "\n",
    "# Scaling numerical features\n",
    "scaler = MinMaxScaler()\n",
    "df_cleaned[numerical_cols] = scaler.fit_transform(df_cleaned[numerical_cols])\n",
    "\n",
    "# Define features and target variable\n",
    "X = df_cleaned.drop(columns='Price', axis=1)\n",
    "Y = df_cleaned['Price']\n",
    "\n",
    "# Split the dataset into training and testing sets\n",
    "X_train, X_test, Y_train, Y_test = train_test_split(X, Y, random_state=0)"
   ]
  },
  {
   "cell_type": "code",
   "execution_count": 36,
   "metadata": {},
   "outputs": [],
   "source": [
    "# Define the model\n",
    "xgb_model = xgb.XGBRegressor(random_state=0)\n",
    "\n",
    "# Fit the model using the training data\n",
    "xgb_model.fit(X_train, Y_train)\n",
    "\n",
    "# Make predictions on the test set\n",
    "Y_pred = xgb_model.predict(X_test)"
   ]
  },
  {
   "cell_type": "code",
   "execution_count": 37,
   "metadata": {},
   "outputs": [
    {
     "name": "stdout",
     "output_type": "stream",
     "text": [
      "\n",
      "Mean Absolute Error: 25620.73\n",
      "Root Mean Squared Error: 30973.23\n",
      "R² Score: -0.23\n",
      "\n",
      "The Mean Absolute Error is 25620.73, which is 48.89% of the mean of Y.\n",
      "This means if our model makes a prediction it'll be +-48.89% trustworthy\n"
     ]
    }
   ],
   "source": [
    "mae = mean_absolute_error(Y_test, Y_pred)\n",
    "rmse = np.sqrt(mean_squared_error(Y_test, Y_pred))\n",
    "r2 = r2_score(Y_test, Y_pred)\n",
    "\n",
    "print(f\"\"\"\n",
    "Mean Absolute Error: {mae:.2f}\n",
    "Root Mean Squared Error: {rmse:.2f}\n",
    "R² Score: {r2:.2f}\n",
    "\"\"\")\n",
    "\n",
    "mae_test = mean_absolute_error(Y_test, Y_pred)\n",
    "\n",
    "# Calculate the mean of Y (target variable)\n",
    "mean_y = Y_test.mean()\n",
    "\n",
    "# Calculate the percentage of MAE relative to the mean of Y\n",
    "mae_percentage = (mae_test / mean_y) * 100\n",
    "\n",
    "print(f\"The Mean Absolute Error is {mae_test:.2f}, which is {mae_percentage:.2f}% of the mean of Y.\")\n",
    "print(f\"This means if our model makes a prediction it'll be +-{mae_percentage:.2f}% trustworthy\")"
   ]
  },
  {
   "cell_type": "code",
   "execution_count": null,
   "metadata": {},
   "outputs": [],
   "source": []
  },
  {
   "cell_type": "code",
   "execution_count": null,
   "metadata": {},
   "outputs": [],
   "source": []
  }
 ],
 "metadata": {
  "kernelspec": {
   "display_name": "Python 3",
   "language": "python",
   "name": "python3"
  },
  "language_info": {
   "codemirror_mode": {
    "name": "ipython",
    "version": 3
   },
   "file_extension": ".py",
   "mimetype": "text/x-python",
   "name": "python",
   "nbconvert_exporter": "python",
   "pygments_lexer": "ipython3",
   "version": "3.12.0"
  }
 },
 "nbformat": 4,
 "nbformat_minor": 2
}
